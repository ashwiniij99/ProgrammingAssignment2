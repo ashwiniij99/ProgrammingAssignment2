{
 "cells": [
  {
   "cell_type": "code",
   "execution_count": 1,
   "metadata": {},
   "outputs": [],
   "source": [
    "makeCacheMatrix <- function(x = matrix()) {\n",
    "        inv <- NULL\n",
    "        set <- function(y) {\n",
    "                x <<- y\n",
    "                inv <<- NULL\n",
    "        }\n",
    "        get <- function() x\n",
    "        setInverse <- function(inverse) inv <<- inverse\n",
    "        getInverse <- function() inv\n",
    "        list(set = set,\n",
    "             get = get,\n",
    "             setInverse = setInverse,\n",
    "             getInverse = getInverse)\n",
    "}\n",
    "cacheSolve <- function(x, ...) {\n",
    "        ## Return a matrix that is the inverse of 'x'\n",
    "        inv <- x$getInverse()\n",
    "        if (!is.null(inv)) {\n",
    "                message(\"getting cached data\")\n",
    "                return(inv)\n",
    "        }\n",
    "        mat <- x$get()\n",
    "        inv <- solve(mat, ...)\n",
    "        x$setInverse(inv)\n",
    "        inv\n",
    "}"
   ]
  },
  {
   "cell_type": "code",
   "execution_count": 4,
   "metadata": {},
   "outputs": [],
   "source": [
    "my_matrix$set(matrix(c(2, 2, 1, 4), 2, 2))"
   ]
  },
  {
   "cell_type": "code",
   "execution_count": 5,
   "metadata": {},
   "outputs": [
    {
     "data": {
      "text/html": [
       "<table>\n",
       "<tbody>\n",
       "\t<tr><td>2</td><td>1</td></tr>\n",
       "\t<tr><td>2</td><td>4</td></tr>\n",
       "</tbody>\n",
       "</table>\n"
      ],
      "text/latex": [
       "\\begin{tabular}{ll}\n",
       "\t 2 & 1\\\\\n",
       "\t 2 & 4\\\\\n",
       "\\end{tabular}\n"
      ],
      "text/markdown": [
       "\n",
       "| 2 | 1 |\n",
       "| 2 | 4 |\n",
       "\n"
      ],
      "text/plain": [
       "     [,1] [,2]\n",
       "[1,] 2    1   \n",
       "[2,] 2    4   "
      ]
     },
     "metadata": {},
     "output_type": "display_data"
    }
   ],
   "source": [
    " my_matrix$get()"
   ]
  },
  {
   "cell_type": "code",
   "execution_count": 6,
   "metadata": {},
   "outputs": [
    {
     "data": {
      "text/plain": [
       "NULL"
      ]
     },
     "metadata": {},
     "output_type": "display_data"
    }
   ],
   "source": [
    "my_matrix$getInverse()"
   ]
  },
  {
   "cell_type": "code",
   "execution_count": 7,
   "metadata": {},
   "outputs": [
    {
     "data": {
      "text/html": [
       "<table>\n",
       "<tbody>\n",
       "\t<tr><td> 0.6666667</td><td>-0.1666667</td></tr>\n",
       "\t<tr><td>-0.3333333</td><td> 0.3333333</td></tr>\n",
       "</tbody>\n",
       "</table>\n"
      ],
      "text/latex": [
       "\\begin{tabular}{ll}\n",
       "\t  0.6666667 & -0.1666667\\\\\n",
       "\t -0.3333333 &  0.3333333\\\\\n",
       "\\end{tabular}\n"
      ],
      "text/markdown": [
       "\n",
       "|  0.6666667 | -0.1666667 |\n",
       "| -0.3333333 |  0.3333333 |\n",
       "\n"
      ],
      "text/plain": [
       "     [,1]       [,2]      \n",
       "[1,]  0.6666667 -0.1666667\n",
       "[2,] -0.3333333  0.3333333"
      ]
     },
     "metadata": {},
     "output_type": "display_data"
    }
   ],
   "source": [
    "cacheSolve(my_matrix)"
   ]
  },
  {
   "cell_type": "code",
   "execution_count": 8,
   "metadata": {},
   "outputs": [
    {
     "name": "stderr",
     "output_type": "stream",
     "text": [
      "getting cached data\n"
     ]
    },
    {
     "data": {
      "text/html": [
       "<table>\n",
       "<tbody>\n",
       "\t<tr><td> 0.6666667</td><td>-0.1666667</td></tr>\n",
       "\t<tr><td>-0.3333333</td><td> 0.3333333</td></tr>\n",
       "</tbody>\n",
       "</table>\n"
      ],
      "text/latex": [
       "\\begin{tabular}{ll}\n",
       "\t  0.6666667 & -0.1666667\\\\\n",
       "\t -0.3333333 &  0.3333333\\\\\n",
       "\\end{tabular}\n"
      ],
      "text/markdown": [
       "\n",
       "|  0.6666667 | -0.1666667 |\n",
       "| -0.3333333 |  0.3333333 |\n",
       "\n"
      ],
      "text/plain": [
       "     [,1]       [,2]      \n",
       "[1,]  0.6666667 -0.1666667\n",
       "[2,] -0.3333333  0.3333333"
      ]
     },
     "metadata": {},
     "output_type": "display_data"
    }
   ],
   "source": [
    "cacheSolve(my_matrix)"
   ]
  },
  {
   "cell_type": "code",
   "execution_count": 9,
   "metadata": {},
   "outputs": [
    {
     "data": {
      "text/html": [
       "<table>\n",
       "<tbody>\n",
       "\t<tr><td> 0.6666667</td><td>-0.1666667</td></tr>\n",
       "\t<tr><td>-0.3333333</td><td> 0.3333333</td></tr>\n",
       "</tbody>\n",
       "</table>\n"
      ],
      "text/latex": [
       "\\begin{tabular}{ll}\n",
       "\t  0.6666667 & -0.1666667\\\\\n",
       "\t -0.3333333 &  0.3333333\\\\\n",
       "\\end{tabular}\n"
      ],
      "text/markdown": [
       "\n",
       "|  0.6666667 | -0.1666667 |\n",
       "| -0.3333333 |  0.3333333 |\n",
       "\n"
      ],
      "text/plain": [
       "     [,1]       [,2]      \n",
       "[1,]  0.6666667 -0.1666667\n",
       "[2,] -0.3333333  0.3333333"
      ]
     },
     "metadata": {},
     "output_type": "display_data"
    }
   ],
   "source": [
    " my_matrix$getInverse()"
   ]
  },
  {
   "cell_type": "code",
   "execution_count": null,
   "metadata": {},
   "outputs": [],
   "source": []
  }
 ],
 "metadata": {
  "kernelspec": {
   "display_name": "R",
   "language": "R",
   "name": "ir"
  },
  "language_info": {
   "codemirror_mode": "r",
   "file_extension": ".r",
   "mimetype": "text/x-r-source",
   "name": "R",
   "pygments_lexer": "r",
   "version": "3.6.1"
  }
 },
 "nbformat": 4,
 "nbformat_minor": 4
}
